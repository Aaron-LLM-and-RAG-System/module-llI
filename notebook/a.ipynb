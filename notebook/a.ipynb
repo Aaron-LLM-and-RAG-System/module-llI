{
 "cells": [
  {
   "cell_type": "code",
   "execution_count": null,
   "metadata": {},
   "outputs": [],
   "source": [
    "\n",
    "\n",
    "\n",
    "\n",
    "# Function to calculate hit rate\n",
    "def calculate_hit_rate(search_engine, ground_truth, num_results=5):\n",
    "    hits = 0\n",
    "    for gt in ground_truth:\n",
    "        v_query = embedding_model.encode(f\"{gt['question']} {gt['text']}\")\n",
    "        results = search_engine.search(v_query, num_results)\n",
    "        if any(result['id'] == gt['id'] for result in results):\n",
    "            hits += 1\n",
    "    hit_rate = hits / len(ground_truth)\n",
    "    return hit_rate\n",
    "\n",
    "# Calculate the hit rate\n"
   ]
  }
 ],
 "metadata": {
  "language_info": {
   "name": "python"
  }
 },
 "nbformat": 4,
 "nbformat_minor": 2
}
